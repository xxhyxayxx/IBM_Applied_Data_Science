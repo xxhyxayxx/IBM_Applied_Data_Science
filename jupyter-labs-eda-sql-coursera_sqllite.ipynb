{
 "cells": [
  {
   "cell_type": "markdown",
   "id": "62f5e5fc-c21f-4a5b-8e79-5ad7c2c32331",
   "metadata": {},
   "source": [
    "<p style=\"text-align:center\">\n",
    "    <a href=\"https://skills.network/?utm_medium=Exinfluencer&utm_source=Exinfluencer&utm_content=000026UJ&utm_term=10006555&utm_id=NA-SkillsNetwork-Channel-SkillsNetworkCoursesIBMDS0321ENSkillsNetwork865-2022-01-01\" target=\"_blank\">\n",
    "    <img src=\"https://cf-courses-data.s3.us.cloud-object-storage.appdomain.cloud/assets/logos/SN_web_lightmode.png\" width=\"200\" alt=\"Skills Network Logo\"  />\n",
    "    </a>\n",
    "</p>\n",
    "\n",
    "<h1 align=center><font size = 5>Assignment: SQL Notebook for Peer Assignment</font></h1>\n",
    "\n",
    "Estimated time needed: **60** minutes.\n",
    "\n",
    "## Introduction\n",
    "Using this Python notebook you will:\n",
    "\n",
    "1.  Understand the Spacex DataSet\n",
    "2.  Load the dataset  into the corresponding table in a Db2 database\n",
    "3.  Execute SQL queries to answer assignment questions \n"
   ]
  },
  {
   "cell_type": "markdown",
   "id": "28b87e78-66b4-42a6-bc76-a8c3e9122b81",
   "metadata": {},
   "source": [
    "## Overview of the DataSet\n",
    "\n",
    "SpaceX has gained worldwide attention for a series of historic milestones. \n",
    "\n",
    "It is the only private company ever to return a spacecraft from low-earth orbit, which it first accomplished in December 2010.\n",
    "SpaceX advertises Falcon 9 rocket launches on its website with a cost of 62 million dollars wheras other providers cost upward of 165 million dollars each, much of the savings is because Space X can reuse the first stage. \n",
    "\n",
    "\n",
    "Therefore if we can determine if the first stage will land, we can determine the cost of a launch. \n",
    "\n",
    "This information can be used if an alternate company wants to bid against SpaceX for a rocket launch.\n",
    "\n",
    "This dataset includes a record for each payload carried during a SpaceX mission into outer space.\n"
   ]
  },
  {
   "cell_type": "markdown",
   "id": "ffe8c135-38dc-4e01-9956-5f5bc504f285",
   "metadata": {},
   "source": [
    "### Download the datasets\n",
    "\n",
    "This assignment requires you to load the spacex dataset.\n",
    "\n",
    "In many cases the dataset to be analyzed is available as a .CSV (comma separated values) file, perhaps on the internet. Click on the link below to download and save the dataset (.CSV file):\n",
    "\n",
    " <a href=\"https://cf-courses-data.s3.us.cloud-object-storage.appdomain.cloud/IBM-DS0321EN-SkillsNetwork/labs/module_2/data/Spacex.csv\" target=\"_blank\">Spacex DataSet</a>\n",
    "\n"
   ]
  },
  {
   "cell_type": "code",
   "execution_count": 2,
   "id": "c00de771-8c83-4dc5-8592-fa6178faeeae",
   "metadata": {},
   "outputs": [
    {
     "name": "stdout",
     "output_type": "stream",
     "text": [
      "Requirement already satisfied: mysql-connector-python in /Users/nakamurahigeri/opt/anaconda3/lib/python3.9/site-packages (8.0.33)\n",
      "Requirement already satisfied: protobuf<=3.20.3,>=3.11.0 in /Users/nakamurahigeri/opt/anaconda3/lib/python3.9/site-packages (from mysql-connector-python) (3.20.3)\n",
      "Requirement already satisfied: protobuf==3.20.3 in /Users/nakamurahigeri/opt/anaconda3/lib/python3.9/site-packages (3.20.3)\n"
     ]
    }
   ],
   "source": [
    "!pip install mysql-connector-python\n",
    "!pip install protobuf==3.20.3"
   ]
  },
  {
   "cell_type": "markdown",
   "id": "21bfcb4f-176e-40d8-a398-4de8fd56d2f3",
   "metadata": {},
   "source": [
    "### Connect to the database\n",
    "\n",
    "Let us first load the SQL extension and establish a connection with the database\n"
   ]
  },
  {
   "cell_type": "code",
   "execution_count": 18,
   "id": "fcb6ec57-e566-49bc-921f-83c4fa2046d0",
   "metadata": {},
   "outputs": [],
   "source": [
    "import mysql.connector\n",
    "\n",
    "# MySQL接続情報を指定\n",
    "config = {\n",
    "    'user': 'root',\n",
    "    'password': '',\n",
    "    'host': 'localhost',\n",
    "    'database': 'SPACEX',\n",
    "    'raise_on_warnings': True\n",
    "}\n",
    "\n",
    "# MySQLに接続\n",
    "cnx = mysql.connector.connect(**config)"
   ]
  },
  {
   "cell_type": "markdown",
   "id": "aeb3df77-52db-4f77-90a0-bbf6760b1125",
   "metadata": {},
   "source": [
    "## Tasks\n",
    "\n",
    "Now write and execute SQL queries to solve the assignment tasks.\n",
    "\n",
    "**Note: If the column names are in mixed case enclose it in double quotes\n",
    "   For Example \"Landing_Outcome\"**\n",
    "\n",
    "### Task 1\n",
    "\n",
    "\n",
    "\n",
    "\n",
    "##### Display the names of the unique launch sites  in the space mission\n"
   ]
  },
  {
   "cell_type": "code",
   "execution_count": 17,
   "id": "064f242f-3e91-4990-9f3c-131f1f60cec3",
   "metadata": {},
   "outputs": [
    {
     "name": "stdout",
     "output_type": "stream",
     "text": [
      "CCAFS LC-40\n",
      "VAFB SLC-4E\n",
      "KSC LC-39A\n",
      "CCAFS SLC-40\n"
     ]
    }
   ],
   "source": [
    "# クエリを実行して結果を取得\n",
    "query = \"SELECT DISTINCT Launch_Site FROM SPACEX\"\n",
    "cursor = cnx.cursor()\n",
    "cursor.execute(query)\n",
    "results = cursor.fetchall()\n",
    "\n",
    "# 結果を表示\n",
    "for row in results:\n",
    "    print(row[0])\n",
    "\n",
    "# 接続をクローズ\n",
    "cursor.close()\n",
    "cnx.close()"
   ]
  },
  {
   "cell_type": "markdown",
   "id": "6ad3ca6d-02c4-47cc-bcb6-b2f375e29f14",
   "metadata": {},
   "source": [
    "\n",
    "### Task 2\n",
    "\n",
    "\n",
    "#####  Display 5 records where launch sites begin with the string 'CCA' \n"
   ]
  },
  {
   "cell_type": "code",
   "execution_count": 14,
   "id": "c8b96954-f622-40f1-afa5-d242dd0151b4",
   "metadata": {},
   "outputs": [
    {
     "name": "stdout",
     "output_type": "stream",
     "text": [
      "(datetime.date(2010, 6, 4), '18:45:00', 'F9 v1.0  B0003', 'CCAFS LC-40', 'Dragon Spacecraft Qualification Unit', 0, 'LEO', 'SpaceX', 'Success', 'Failure (parachute)')\n",
      "(datetime.date(2010, 12, 8), '15:43:00', 'F9 v1.0  B0004', 'CCAFS LC-40', 'Dragon demo flight C1, two CubeSats, barrel of Brouere cheese', 0, 'LEO (ISS)', 'NASA (COTS) NRO', 'Success', 'Failure (parachute)')\n",
      "(datetime.date(2012, 5, 22), '7:44:00', 'F9 v1.0  B0005', 'CCAFS LC-40', 'Dragon demo flight C2', 525, 'LEO (ISS)', 'NASA (COTS)', 'Success', 'No attempt')\n",
      "(datetime.date(2012, 10, 8), '0:35:00', 'F9 v1.0  B0006', 'CCAFS LC-40', 'SpaceX CRS-1', 500, 'LEO (ISS)', 'NASA (CRS)', 'Success', 'No attempt')\n",
      "(datetime.date(2013, 3, 1), '15:10:00', 'F9 v1.0  B0007', 'CCAFS LC-40', 'SpaceX CRS-2', 677, 'LEO (ISS)', 'NASA (CRS)', 'Success', 'No attempt')\n"
     ]
    }
   ],
   "source": [
    "# クエリを実行して結果を取得\n",
    "query = \"SELECT * FROM SPACEX WHERE Launch_Site LIKE 'CCA%' LIMIT 5\"\n",
    "cursor = cnx.cursor()\n",
    "cursor.execute(query)\n",
    "results = cursor.fetchall()\n",
    "\n",
    "# 結果を表示\n",
    "for row in results:\n",
    "    print(row)\n",
    "\n",
    "# 接続をクローズ\n",
    "cursor.close()\n",
    "cnx.close()"
   ]
  },
  {
   "cell_type": "markdown",
   "id": "a1245fe9-e9c7-4d3f-8e39-5f0763511ab0",
   "metadata": {},
   "source": [
    "### Task 3\n",
    "\n",
    "\n",
    "\n",
    "\n",
    "##### Display the total payload mass carried by boosters launched by NASA (CRS)\n"
   ]
  },
  {
   "cell_type": "code",
   "execution_count": 25,
   "id": "bca5e349-bd05-4ace-b1c8-9eeea1b46a32",
   "metadata": {},
   "outputs": [
    {
     "name": "stdout",
     "output_type": "stream",
     "text": [
      "Total Payload Mass carried by NASA (CRS): 45596 kg\n"
     ]
    }
   ],
   "source": [
    "import mysql.connector\n",
    "\n",
    "# MySQL接続情報を指定\n",
    "config = {\n",
    "    'user': 'root',\n",
    "    'password': '',\n",
    "    'host': 'localhost',\n",
    "    'database': 'SPACEX',\n",
    "    'raise_on_warnings': True\n",
    "}\n",
    "\n",
    "# MySQLに接続\n",
    "cnx = mysql.connector.connect(**config)\n",
    "\n",
    "# クエリを実行して結果を取得\n",
    "query = \"SELECT SUM(PAYLOAD_MASS_KG_) FROM SPACEX WHERE Customer = 'NASA (CRS)'\"\n",
    "cursor = cnx.cursor()\n",
    "cursor.execute(query)\n",
    "result = cursor.fetchone()\n",
    "\n",
    "# 結果を表示\n",
    "total_payload_mass = result[0]\n",
    "print(\"Total Payload Mass carried by NASA (CRS):\", total_payload_mass, \"kg\")\n",
    "\n",
    "# 接続をクローズ\n",
    "cursor.close()\n",
    "cnx.close()\n"
   ]
  },
  {
   "cell_type": "markdown",
   "id": "68009afe-0c04-408b-a3ea-fccb5a4c2a85",
   "metadata": {},
   "source": [
    "### Task 4\n",
    "\n",
    "\n",
    "\n",
    "\n",
    "##### Display average payload mass carried by booster version F9 v1.1\n"
   ]
  },
  {
   "cell_type": "code",
   "execution_count": 27,
   "id": "c9ab7fe6-b18c-4a77-86b2-61c398c58c43",
   "metadata": {},
   "outputs": [
    {
     "name": "stdout",
     "output_type": "stream",
     "text": [
      "Average Payload Mass carried by F9 v1.1 booster: 2928.4000\n"
     ]
    }
   ],
   "source": [
    "import mysql.connector\n",
    "\n",
    "# MySQL connection configuration\n",
    "config = {\n",
    "    'user': 'root',\n",
    "    'password': '',\n",
    "    'host': 'localhost',\n",
    "    'database': 'SPACEX',\n",
    "    'raise_on_warnings': True\n",
    "}\n",
    "\n",
    "# Connect to MySQL\n",
    "cnx = mysql.connector.connect(**config)\n",
    "\n",
    "# Execute the query\n",
    "query = \"SELECT AVG(PAYLOAD_MASS_KG_) FROM SPACEX WHERE Booster_Version = 'F9 v1.1'\"\n",
    "cursor = cnx.cursor()\n",
    "cursor.execute(query)\n",
    "result = cursor.fetchone()\n",
    "\n",
    "# Display the average payload mass\n",
    "print(\"Average Payload Mass carried by F9 v1.1 booster:\", result[0])\n",
    "\n",
    "# Close the connection\n",
    "cursor.close()\n",
    "cnx.close()\n"
   ]
  },
  {
   "cell_type": "markdown",
   "id": "daf51f8c-68ab-4bec-9e00-f0816f7afe69",
   "metadata": {},
   "source": [
    "### Task 5\n",
    "\n",
    "##### List the date when the first succesful landing outcome in ground pad was acheived.\n",
    "\n",
    "\n",
    "_Hint:Use min function_ \n"
   ]
  },
  {
   "cell_type": "code",
   "execution_count": 28,
   "id": "ccb7b534-8ad1-47d4-ad4f-fa0d44cb7d7f",
   "metadata": {},
   "outputs": [
    {
     "name": "stdout",
     "output_type": "stream",
     "text": [
      "Date of the first successful landing on a ground pad: 2015-12-22\n"
     ]
    }
   ],
   "source": [
    "import mysql.connector\n",
    "\n",
    "# MySQL connection configuration\n",
    "config = {\n",
    "    'user': 'root',\n",
    "    'password': '',\n",
    "    'host': 'localhost',\n",
    "    'database': 'SPACEX',\n",
    "    'raise_on_warnings': True\n",
    "}\n",
    "\n",
    "# Connect to MySQL\n",
    "cnx = mysql.connector.connect(**config)\n",
    "\n",
    "# Execute the query\n",
    "query = \"SELECT MIN(Date) FROM SPACEX WHERE Landing_Outcome LIKE '%ground pad%' AND Landing_Outcome LIKE '%Success%'\"\n",
    "cursor = cnx.cursor()\n",
    "cursor.execute(query)\n",
    "result = cursor.fetchone()\n",
    "\n",
    "# Display the date of the first successful landing on a ground pad\n",
    "print(\"Date of the first successful landing on a ground pad:\", result[0])\n",
    "\n",
    "# Close the connection\n",
    "cursor.close()\n",
    "cnx.close()\n"
   ]
  },
  {
   "cell_type": "markdown",
   "id": "f3b0a30d-0c0e-4438-8ec8-94ff0bfa6241",
   "metadata": {},
   "source": [
    "### Task 6\n",
    "\n",
    "##### List the names of the boosters which have success in drone ship and have payload mass greater than 4000 but less than 6000\n"
   ]
  },
  {
   "cell_type": "code",
   "execution_count": 31,
   "id": "a8a46f10-b7c2-4c2c-836a-21e9289107c5",
   "metadata": {},
   "outputs": [
    {
     "name": "stdout",
     "output_type": "stream",
     "text": [
      "Boosters with successful landing on a drone ship and payload mass between 4000 and 6000:\n",
      "F9 FT B1022\n",
      "F9 FT B1026\n",
      "F9 FT  B1021.2\n",
      "F9 FT  B1031.2\n"
     ]
    }
   ],
   "source": [
    "import mysql.connector\n",
    "\n",
    "# MySQL connection configuration\n",
    "config = {\n",
    "    'user': 'root',\n",
    "    'password': '',\n",
    "    'host': 'localhost',\n",
    "    'database': 'SPACEX',\n",
    "    'raise_on_warnings': True\n",
    "}\n",
    "\n",
    "# Connect to MySQL\n",
    "cnx = mysql.connector.connect(**config)\n",
    "\n",
    "# Execute the query\n",
    "query = \"SELECT Booster_Version FROM SPACEX WHERE Landing_Outcome LIKE '%drone ship%' AND PAYLOAD_MASS_KG_ > 4000 AND PAYLOAD_MASS_KG_ < 6000 AND Landing_Outcome LIKE '%Success%'\"\n",
    "cursor = cnx.cursor()\n",
    "cursor.execute(query)\n",
    "results = cursor.fetchall()\n",
    "\n",
    "# Display the names of the boosters\n",
    "print(\"Boosters with successful landing on a drone ship and payload mass between 4000 and 6000:\")\n",
    "for result in results:\n",
    "    print(result[0])\n",
    "\n",
    "# Close the connection\n",
    "cursor.close()\n",
    "cnx.close()\n"
   ]
  },
  {
   "cell_type": "markdown",
   "id": "3b2e99ee-3df2-4059-93fd-0397c93e87a1",
   "metadata": {},
   "source": [
    "### Task 7\n",
    "\n",
    "\n",
    "\n",
    "\n",
    "##### List the total number of successful and failure mission outcomes\n"
   ]
  },
  {
   "cell_type": "code",
   "execution_count": 32,
   "id": "33a28c37-4c70-4a2f-a863-c711e5685b29",
   "metadata": {},
   "outputs": [
    {
     "name": "stdout",
     "output_type": "stream",
     "text": [
      "Total number of successful missions:  100\n",
      "Total number of failure missions:  1\n"
     ]
    }
   ],
   "source": [
    "import mysql.connector\n",
    "\n",
    "# MySQL connection configuration\n",
    "config = {\n",
    "    'user': 'root',\n",
    "    'password': '',\n",
    "    'host': 'localhost',\n",
    "    'database': 'SPACEX',\n",
    "    'raise_on_warnings': True\n",
    "}\n",
    "\n",
    "# Connect to MySQL\n",
    "cnx = mysql.connector.connect(**config)\n",
    "\n",
    "# Execute the query for successful missions\n",
    "query_success = \"SELECT COUNT(*) FROM SPACEX WHERE Mission_Outcome LIKE '%Success%'\"\n",
    "cursor = cnx.cursor()\n",
    "cursor.execute(query_success)\n",
    "result_success = cursor.fetchone()[0]\n",
    "\n",
    "# Execute the query for failed missions\n",
    "query_failure = \"SELECT COUNT(*) FROM SPACEX WHERE Mission_Outcome LIKE '%Failure%'\"\n",
    "cursor.execute(query_failure)\n",
    "result_failure = cursor.fetchone()[0]\n",
    "\n",
    "# Display the total number of successful and failure mission outcomes\n",
    "print(\"Total number of successful missions: \", result_success)\n",
    "print(\"Total number of failure missions: \", result_failure)\n",
    "\n",
    "# Close the connection\n",
    "cursor.close()\n",
    "cnx.close()\n"
   ]
  },
  {
   "cell_type": "markdown",
   "id": "660e7f9f-6936-4b84-b419-ca94c04f99e2",
   "metadata": {},
   "source": [
    "### Task 8\n",
    "\n",
    "\n",
    "\n",
    "##### List the   names of the booster_versions which have carried the maximum payload mass. Use a subquery\n"
   ]
  },
  {
   "cell_type": "code",
   "execution_count": 34,
   "id": "c3d08631-cbc4-42f1-aa3a-d68e2edad72c",
   "metadata": {},
   "outputs": [
    {
     "name": "stdout",
     "output_type": "stream",
     "text": [
      "Booster Versions with Maximum Payload Mass:\n",
      "F9 B5 B1048.4\n",
      "F9 B5 B1049.4\n",
      "F9 B5 B1051.3\n",
      "F9 B5 B1056.4\n",
      "F9 B5 B1048.5\n",
      "F9 B5 B1051.4\n",
      "F9 B5 B1049.5\n",
      "F9 B5 B1060.2\n",
      "F9 B5 B1058.3\n",
      "F9 B5 B1051.6\n",
      "F9 B5 B1060.3\n",
      "F9 B5 B1049.7\n"
     ]
    }
   ],
   "source": [
    "import mysql.connector\n",
    "\n",
    "# MySQL connection configuration\n",
    "config = {\n",
    "    'user': 'root',\n",
    "    'password': '',\n",
    "    'host': 'localhost',\n",
    "    'database': 'SPACEX',\n",
    "    'raise_on_warnings': True\n",
    "}\n",
    "\n",
    "# Connect to MySQL\n",
    "cnx = mysql.connector.connect(**config)\n",
    "\n",
    "# Execute the query\n",
    "query = \"\"\"\n",
    "SELECT booster_version\n",
    "FROM SPACEX\n",
    "WHERE PAYLOAD_MASS_KG_ = (\n",
    "    SELECT MAX(PAYLOAD_MASS_KG_) \n",
    "    FROM SPACEX\n",
    ")\n",
    "\"\"\"\n",
    "cursor = cnx.cursor()\n",
    "cursor.execute(query)\n",
    "results = cursor.fetchall()\n",
    "\n",
    "# Display the names of the booster_versions with the maximum payload mass\n",
    "print(\"Booster Versions with Maximum Payload Mass:\")\n",
    "for result in results:\n",
    "    print(result[0])\n",
    "\n",
    "# Close the connection\n",
    "cursor.close()\n",
    "cnx.close()\n"
   ]
  },
  {
   "cell_type": "markdown",
   "id": "008f7c68-5946-43c4-9945-1a45e603eb35",
   "metadata": {},
   "source": [
    "### Task 9\n",
    "\n",
    "\n",
    "##### List the records which will display the month names, failure landing_outcomes in drone ship ,booster versions, launch_site for the months in year 2015.\n",
    "\n",
    "**Note: SQLLite does not support monthnames. So you need to use  substr(Date, 4, 2) as month to get the months and substr(Date,7,4)='2015' for year.**\n"
   ]
  },
  {
   "cell_type": "code",
   "execution_count": 36,
   "id": "66c15b1b-da4b-4951-8d7c-ac8df75836fc",
   "metadata": {},
   "outputs": [
    {
     "name": "stdout",
     "output_type": "stream",
     "text": [
      "Records for Months in 2015 with Failure Landing Outcomes in Drone Ship:\n",
      "Month: 01\n",
      "Landing Outcome: Failure (drone ship)\n",
      "Booster Version: F9 v1.1 B1012\n",
      "Launch Site: CCAFS LC-40\n",
      "\n",
      "Month: 04\n",
      "Landing Outcome: Failure (drone ship)\n",
      "Booster Version: F9 v1.1 B1015\n",
      "Launch Site: CCAFS LC-40\n",
      "\n"
     ]
    }
   ],
   "source": [
    "import mysql.connector\n",
    "\n",
    "# MySQL connection configuration\n",
    "config = {\n",
    "    'user': 'root',\n",
    "    'password': '',\n",
    "    'host': 'localhost',\n",
    "    'database': 'SPACEX',\n",
    "    'raise_on_warnings': True\n",
    "}\n",
    "\n",
    "# Connect to MySQL\n",
    "cnx = mysql.connector.connect(**config)\n",
    "\n",
    "# Execute the query\n",
    "query = \"\"\"\n",
    "SELECT \n",
    "    DATE_FORMAT(Date, '%m') AS Month,\n",
    "    landing_outcome AS Landing_Outcome,\n",
    "    booster_version AS Booster_Version,\n",
    "    launch_site AS Launch_Site\n",
    "FROM SPACEX\n",
    "WHERE \n",
    "    YEAR(Date) = 2015 AND\n",
    "    Landing_Outcome = 'Failure (drone ship)'\n",
    "\"\"\"\n",
    "cursor = cnx.cursor()\n",
    "cursor.execute(query)\n",
    "results = cursor.fetchall()\n",
    "\n",
    "# Display the records\n",
    "print(\"Records for Months in 2015 with Failure Landing Outcomes in Drone Ship:\")\n",
    "for result in results:\n",
    "    print(\"Month:\", result[0])\n",
    "    print(\"Landing Outcome:\", result[1])\n",
    "    print(\"Booster Version:\", result[2])\n",
    "    print(\"Launch Site:\", result[3])\n",
    "    print()\n",
    "\n",
    "# Close the connection\n",
    "cursor.close()\n",
    "cnx.close()\n"
   ]
  },
  {
   "cell_type": "markdown",
   "id": "930a3560-cc1c-4587-866a-7bde5982c648",
   "metadata": {},
   "source": [
    "### Task 10\n",
    "\n",
    "\n",
    "\n",
    "\n",
    "##### Rank the  count of  successful landing_outcomes between the date 04-06-2010 and 20-03-2017 in descending order.\n"
   ]
  },
  {
   "cell_type": "code",
   "execution_count": 1,
   "id": "d876bcee-cb59-42c0-a747-95560ef3f892",
   "metadata": {
    "pycharm": {
     "is_executing": true
    }
   },
   "outputs": [
    {
     "name": "stdout",
     "output_type": "stream",
     "text": [
      "Ranking of Successful Landing Outcomes between 04-06-2010 and 20-03-2017:\n"
     ]
    }
   ],
   "source": [
    "import mysql.connector\n",
    "\n",
    "# MySQL connection configuration\n",
    "config = {\n",
    "    'user': 'root',\n",
    "    'password': '',\n",
    "    'host': 'localhost',\n",
    "    'database': 'SPACEX',\n",
    "    'raise_on_warnings': True\n",
    "}\n",
    "\n",
    "# Connect to MySQL\n",
    "cnx = mysql.connector.connect(**config)\n",
    "\n",
    "# Execute the query\n",
    "query = \"\"\"\n",
    "SELECT\n",
    "    landing_outcome AS Landing_Outcome,\n",
    "    COUNT(*) AS Success_Count\n",
    "FROM SPACEX\n",
    "WHERE\n",
    "    Date BETWEEN '2010-06-04' AND '2017-03-20' AND\n",
    "    landing_outcome = 'Success'\n",
    "GROUP BY landing_outcome\n",
    "ORDER BY Success_Count DESC\n",
    "\"\"\"\n",
    "cursor = cnx.cursor()\n",
    "cursor.execute(query)\n",
    "results = cursor.fetchall()\n",
    "\n",
    "# Display the records\n",
    "print(\"Ranking of Successful Landing Outcomes between 04-06-2010 and 20-03-2017:\")\n",
    "rank = 1\n",
    "for result in results:\n",
    "    print(\"Rank:\", rank)\n",
    "    print(\"Landing Outcome:\", result[0])\n",
    "    print(\"Success Count:\", result[1])\n",
    "    print()\n",
    "    rank += 1\n",
    "\n",
    "# Close the connection\n",
    "cursor.close()\n",
    "cnx.close()\n"
   ]
  },
  {
   "cell_type": "markdown",
   "id": "48ad1afc-59f0-47a6-ae2e-7b6ff90999dc",
   "metadata": {},
   "source": [
    "### Reference Links\n",
    "\n",
    "* <a href =\"https://cf-courses-data.s3.us.cloud-object-storage.appdomain.cloud/IBMDeveloperSkillsNetwork-DB0201EN-SkillsNetwork/labs/Labs_Coursera_V5/labs/Lab%20-%20String%20Patterns%20-%20Sorting%20-%20Grouping/instructional-labs.md.html?origin=www.coursera.org\">Hands-on Lab : String Patterns, Sorting and Grouping</a>  \n",
    "\n",
    "*  <a  href=\"https://cf-courses-data.s3.us.cloud-object-storage.appdomain.cloud/IBMDeveloperSkillsNetwork-DB0201EN-SkillsNetwork/labs/Labs_Coursera_V5/labs/Lab%20-%20Built-in%20functions%20/Hands-on_Lab__Built-in_Functions.md.html?origin=www.coursera.org\">Hands-on Lab: Built-in functions</a>\n",
    "\n",
    "*  <a  href=\"https://cf-courses-data.s3.us.cloud-object-storage.appdomain.cloud/IBMDeveloperSkillsNetwork-DB0201EN-SkillsNetwork/labs/Labs_Coursera_V5/labs/Lab%20-%20Sub-queries%20and%20Nested%20SELECTs%20/instructional-labs.md.html?origin=www.coursera.org\">Hands-on Lab : Sub-queries and Nested SELECT Statements</a>\n",
    "\n",
    "*   <a href=\"https://cf-courses-data.s3.us.cloud-object-storage.appdomain.cloud/IBMDeveloperSkillsNetwork-DB0201EN-SkillsNetwork/labs/Module%205/DB0201EN-Week3-1-3-SQLmagic.ipynb\">Hands-on Tutorial: Accessing Databases with SQL magic</a>\n",
    "\n",
    "*  <a href= \"https://cf-courses-data.s3.us.cloud-object-storage.appdomain.cloud/IBMDeveloperSkillsNetwork-DB0201EN-SkillsNetwork/labs/Module%205/DB0201EN-Week3-1-4-Analyzing.ipynb\">Hands-on Lab: Analyzing a real World Data Set</a>\n",
    "\n",
    "\n"
   ]
  },
  {
   "cell_type": "markdown",
   "id": "ec1c809f-d209-41d5-8b22-76f7cd59bb53",
   "metadata": {},
   "source": [
    "## Author(s)\n",
    "\n",
    "<h4> Lakshmi Holla </h4>\n"
   ]
  },
  {
   "cell_type": "markdown",
   "id": "bce3d843-e6cc-49de-a788-a31a3de09872",
   "metadata": {},
   "source": [
    "## Other Contributors\n",
    "\n",
    "<h4> Rav Ahuja </h4>\n"
   ]
  },
  {
   "cell_type": "markdown",
   "id": "2a98a3d8-e49d-496a-bc70-e7f473580c66",
   "metadata": {},
   "source": [
    "## Change log\n",
    "| Date | Version | Changed by | Change Description |\n",
    "|------|--------|--------|---------|\n",
    "| 2021-07-09 | 0.2 |Lakshmi Holla | Changes made in magic sql|\n",
    "| 2021-05-20 | 0.1 |Lakshmi Holla | Created Initial Version |\n"
   ]
  },
  {
   "cell_type": "markdown",
   "id": "76a7ca44-fa0a-45b7-a6bd-a8a4f0df1eec",
   "metadata": {},
   "source": [
    "## <h3 align=\"center\"> © IBM Corporation 2021. All rights reserved. <h3/>\n"
   ]
  }
 ],
 "metadata": {
  "kernelspec": {
   "display_name": "Python 3 (ipykernel)",
   "language": "python",
   "name": "python3"
  },
  "language_info": {
   "codemirror_mode": {
    "name": "ipython",
    "version": 3
   },
   "file_extension": ".py",
   "mimetype": "text/x-python",
   "name": "python",
   "nbconvert_exporter": "python",
   "pygments_lexer": "ipython3",
   "version": "3.9.16"
  }
 },
 "nbformat": 4,
 "nbformat_minor": 4
}
