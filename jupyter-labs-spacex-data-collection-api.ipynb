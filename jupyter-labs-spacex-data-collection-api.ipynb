{
 "cells": [
  {
   "cell_type": "markdown",
   "metadata": {},
   "source": [
    "<p style=\"text-align:center\">\n",
    "    <a href=\"https://skills.network/?utm_medium=Exinfluencer&utm_source=Exinfluencer&utm_content=000026UJ&utm_term=10006555&utm_id=NA-SkillsNetwork-Channel-SkillsNetworkCoursesIBMDS0321ENSkillsNetwork865-2022-01-01\" target=\"_blank\">\n",
    "    <img src=\"https://cf-courses-data.s3.us.cloud-object-storage.appdomain.cloud/assets/logos/SN_web_lightmode.png\" width=\"200\" alt=\"Skills Network Logo\"  />\n",
    "    </a>\n",
    "</p>\n"
   ]
  },
  {
   "cell_type": "markdown",
   "metadata": {},
   "source": [
    "# **SpaceX  Falcon 9 first stage Landing Prediction**\n"
   ]
  },
  {
   "cell_type": "markdown",
   "metadata": {},
   "source": [
    "# Lab 1: Collecting the data\n"
   ]
  },
  {
   "cell_type": "markdown",
   "metadata": {},
   "source": [
    "Estimated time needed: **45** minutes\n"
   ]
  },
  {
   "cell_type": "markdown",
   "metadata": {},
   "source": [
    "In this capstone, we will predict if the Falcon 9 first stage will land successfully. SpaceX advertises Falcon 9 rocket launches on its website with a cost of 62 million dollars; other providers cost upward of 165 million dollars each, much of the savings is because SpaceX can reuse the first stage. Therefore if we can determine if the first stage will land, we can determine the cost of a launch. This information can be used if an alternate company wants to bid against SpaceX for a rocket launch. In this lab, you will collect and make sure the data is in the correct format from an API. The following is an example of a successful and launch.\n"
   ]
  },
  {
   "cell_type": "markdown",
   "metadata": {},
   "source": [
    "![](https://cf-courses-data.s3.us.cloud-object-storage.appdomain.cloud/IBMDeveloperSkillsNetwork-DS0701EN-SkillsNetwork/lab_v2/images/landing_1.gif)\n"
   ]
  },
  {
   "cell_type": "markdown",
   "metadata": {},
   "source": [
    "Several examples of an unsuccessful landing are shown here:\n"
   ]
  },
  {
   "cell_type": "markdown",
   "metadata": {},
   "source": [
    "![](https://cf-courses-data.s3.us.cloud-object-storage.appdomain.cloud/IBMDeveloperSkillsNetwork-DS0701EN-SkillsNetwork/lab_v2/images/crash.gif)\n"
   ]
  },
  {
   "cell_type": "markdown",
   "metadata": {},
   "source": [
    "Most unsuccessful landings are planned. Space X performs a controlled landing in the oceans. \n"
   ]
  },
  {
   "cell_type": "markdown",
   "metadata": {},
   "source": [
    "## Objectives\n"
   ]
  },
  {
   "cell_type": "markdown",
   "metadata": {},
   "source": [
    "In this lab, you will make a get request to the SpaceX API. You will also do some basic data wrangling and formating. \n",
    "\n",
    "- Request to the SpaceX API\n",
    "- Clean the requested data\n"
   ]
  },
  {
   "cell_type": "markdown",
   "metadata": {},
   "source": [
    "----\n"
   ]
  },
  {
   "cell_type": "markdown",
   "metadata": {},
   "source": [
    "## Import Libraries and Define Auxiliary Functions\n"
   ]
  },
  {
   "cell_type": "markdown",
   "metadata": {},
   "source": [
    "We will import the following libraries into the lab\n"
   ]
  },
  {
   "cell_type": "code",
   "execution_count": 2,
   "metadata": {},
   "outputs": [],
   "source": [
    "# Requests allows us to make HTTP requests which we will use to get data from an API\n",
    "import requests\n",
    "# Pandas is a software library written for the Python programming language for data manipulation and analysis.\n",
    "import pandas as pd\n",
    "# NumPy is a library for the Python programming language, adding support for large, multi-dimensional arrays and matrices, along with a large collection of high-level mathematical functions to operate on these arrays\n",
    "import numpy as np\n",
    "# Datetime is a library that allows us to represent dates\n",
    "import datetime\n",
    "\n",
    "# Setting this option will print all collumns of a dataframe\n",
    "pd.set_option('display.max_columns', None)\n",
    "# Setting this option will print all of the data in a feature\n",
    "pd.set_option('display.max_colwidth', None)"
   ]
  },
  {
   "cell_type": "markdown",
   "metadata": {},
   "source": [
    "Below we will define a series of helper functions that will help us use the API to extract information using identification numbers in the launch data.\n",
    "\n",
    "From the <code>rocket</code> column we would like to learn the booster name.\n"
   ]
  },
  {
   "cell_type": "code",
   "execution_count": 3,
   "metadata": {},
   "outputs": [],
   "source": [
    "# Takes the dataset and uses the rocket column to call the API and append the data to the list\n",
    "def getBoosterVersion(data):\n",
    "    for x in data['rocket']:\n",
    "       if x:\n",
    "        response = requests.get(\"https://api.spacexdata.com/v4/rockets/\"+str(x)).json()\n",
    "        BoosterVersion.append(response['name'])"
   ]
  },
  {
   "cell_type": "markdown",
   "metadata": {},
   "source": [
    "From the <code>launchpad</code> we would like to know the name of the launch site being used, the logitude, and the latitude.\n"
   ]
  },
  {
   "cell_type": "code",
   "execution_count": 4,
   "metadata": {},
   "outputs": [],
   "source": [
    "# Takes the dataset and uses the launchpad column to call the API and append the data to the list\n",
    "def getLaunchSite(data):\n",
    "    for x in data['launchpad']:\n",
    "       if x:\n",
    "         response = requests.get(\"https://api.spacexdata.com/v4/launchpads/\"+str(x)).json()\n",
    "         Longitude.append(response['longitude'])\n",
    "         Latitude.append(response['latitude'])\n",
    "         LaunchSite.append(response['name'])"
   ]
  },
  {
   "cell_type": "markdown",
   "metadata": {},
   "source": [
    "From the <code>payload</code> we would like to learn the mass of the payload and the orbit that it is going to.\n"
   ]
  },
  {
   "cell_type": "code",
   "execution_count": 5,
   "metadata": {},
   "outputs": [],
   "source": [
    "# Takes the dataset and uses the payloads column to call the API and append the data to the lists\n",
    "def getPayloadData(data):\n",
    "    for load in data['payloads']:\n",
    "       if load:\n",
    "        response = requests.get(\"https://api.spacexdata.com/v4/payloads/\"+load).json()\n",
    "        PayloadMass.append(response['mass_kg'])\n",
    "        Orbit.append(response['orbit'])"
   ]
  },
  {
   "cell_type": "markdown",
   "metadata": {},
   "source": [
    "From <code>cores</code> we would like to learn the outcome of the landing, the type of the landing, number of flights with that core, whether gridfins were used, wheter the core is reused, wheter legs were used, the landing pad used, the block of the core which is a number used to seperate version of cores, the number of times this specific core has been reused, and the serial of the core.\n"
   ]
  },
  {
   "cell_type": "code",
   "execution_count": 6,
   "metadata": {},
   "outputs": [],
   "source": [
    "# Takes the dataset and uses the cores column to call the API and append the data to the lists\n",
    "def getCoreData(data):\n",
    "    for core in data['cores']:\n",
    "            if core['core'] != None:\n",
    "                response = requests.get(\"https://api.spacexdata.com/v4/cores/\"+core['core']).json()\n",
    "                Block.append(response['block'])\n",
    "                ReusedCount.append(response['reuse_count'])\n",
    "                Serial.append(response['serial'])\n",
    "            else:\n",
    "                Block.append(None)\n",
    "                ReusedCount.append(None)\n",
    "                Serial.append(None)\n",
    "            Outcome.append(str(core['landing_success'])+' '+str(core['landing_type']))\n",
    "            Flights.append(core['flight'])\n",
    "            GridFins.append(core['gridfins'])\n",
    "            Reused.append(core['reused'])\n",
    "            Legs.append(core['legs'])\n",
    "            LandingPad.append(core['landpad'])"
   ]
  },
  {
   "cell_type": "markdown",
   "metadata": {},
   "source": [
    "Now let's start requesting rocket launch data from SpaceX API with the following URL:\n"
   ]
  },
  {
   "cell_type": "code",
   "execution_count": 7,
   "metadata": {},
   "outputs": [],
   "source": [
    "spacex_url=\"https://api.spacexdata.com/v4/launches/past\""
   ]
  },
  {
   "cell_type": "code",
   "execution_count": 8,
   "metadata": {},
   "outputs": [],
   "source": [
    "response = requests.get(spacex_url)"
   ]
  },
  {
   "cell_type": "markdown",
   "metadata": {},
   "source": [
    "Check the content of the response\n"
   ]
  },
  {
   "cell_type": "code",
   "execution_count": 9,
   "metadata": {},
   "outputs": [
    {
     "name": "stdout",
     "output_type": "stream",
     "text": [
      "<Response [200]>\n"
     ]
    }
   ],
   "source": [
    "print(response)"
   ]
  },
  {
   "cell_type": "markdown",
   "metadata": {},
   "source": [
    "You should see the response contains massive information about SpaceX launches. Next, let's try to discover some more relevant information for this project.\n"
   ]
  },
  {
   "cell_type": "markdown",
   "metadata": {},
   "source": [
    "### Task 1: Request and parse the SpaceX launch data using the GET request\n"
   ]
  },
  {
   "cell_type": "markdown",
   "metadata": {},
   "source": [
    "To make the requested JSON results more consistent, we will use the following static response object for this project:\n"
   ]
  },
  {
   "cell_type": "code",
   "execution_count": 10,
   "metadata": {},
   "outputs": [],
   "source": [
    "static_json_url='https://cf-courses-data.s3.us.cloud-object-storage.appdomain.cloud/IBM-DS0321EN-SkillsNetwork/datasets/API_call_spacex_api.json'"
   ]
  },
  {
   "cell_type": "markdown",
   "metadata": {},
   "source": [
    "We should see that the request was successfull with the 200 status response code\n"
   ]
  },
  {
   "cell_type": "code",
   "execution_count": 11,
   "metadata": {},
   "outputs": [
    {
     "data": {
      "text/plain": [
       "200"
      ]
     },
     "execution_count": 11,
     "metadata": {},
     "output_type": "execute_result"
    }
   ],
   "source": [
    "response.status_code"
   ]
  },
  {
   "cell_type": "markdown",
   "metadata": {},
   "source": [
    "Now we decode the response content as a Json using <code>.json()</code> and turn it into a Pandas dataframe using <code>.json_normalize()</code>\n"
   ]
  },
  {
   "cell_type": "code",
   "execution_count": 26,
   "metadata": {},
   "outputs": [
    {
     "name": "stdout",
     "output_type": "stream",
     "text": [
      "                     rocket                  payloads  \\\n",
      "0  5e9d0d95eda69955f709d1eb  5eb0e4b5b6c3bb0006eeb1e1   \n",
      "1  5e9d0d95eda69955f709d1eb  5eb0e4b6b6c3bb0006eeb1e2   \n",
      "3  5e9d0d95eda69955f709d1eb  5eb0e4b7b6c3bb0006eeb1e5   \n",
      "4  5e9d0d95eda69955f709d1eb  5eb0e4b7b6c3bb0006eeb1e6   \n",
      "5  5e9d0d95eda69973a809d1ec  5eb0e4b7b6c3bb0006eeb1e7   \n",
      "\n",
      "                  launchpad  \\\n",
      "0  5e9e4502f5090995de566f86   \n",
      "1  5e9e4502f5090995de566f86   \n",
      "3  5e9e4502f5090995de566f86   \n",
      "4  5e9e4502f5090995de566f86   \n",
      "5  5e9e4501f509094ba4566f84   \n",
      "\n",
      "                                                                                                                                                                                            cores  \\\n",
      "0  {'core': '5e9e289df35918033d3b2623', 'flight': 1, 'gridfins': False, 'legs': False, 'reused': False, 'landing_attempt': False, 'landing_success': None, 'landing_type': None, 'landpad': None}   \n",
      "1  {'core': '5e9e289ef35918416a3b2624', 'flight': 1, 'gridfins': False, 'legs': False, 'reused': False, 'landing_attempt': False, 'landing_success': None, 'landing_type': None, 'landpad': None}   \n",
      "3  {'core': '5e9e289ef3591855dc3b2626', 'flight': 1, 'gridfins': False, 'legs': False, 'reused': False, 'landing_attempt': False, 'landing_success': None, 'landing_type': None, 'landpad': None}   \n",
      "4  {'core': '5e9e289ef359184f103b2627', 'flight': 1, 'gridfins': False, 'legs': False, 'reused': False, 'landing_attempt': False, 'landing_success': None, 'landing_type': None, 'landpad': None}   \n",
      "5  {'core': '5e9e289ef359185f2b3b2628', 'flight': 1, 'gridfins': False, 'legs': False, 'reused': False, 'landing_attempt': False, 'landing_success': None, 'landing_type': None, 'landpad': None}   \n",
      "\n",
      "   flight_number                  date_utc        date  \n",
      "0              1  2006-03-24T22:30:00.000Z  2006-03-24  \n",
      "1              2  2007-03-21T01:10:00.000Z  2007-03-21  \n",
      "3              4  2008-09-28T23:15:00.000Z  2008-09-28  \n",
      "4              5  2009-07-13T03:35:00.000Z  2009-07-13  \n",
      "5              6  2010-06-04T18:45:00.000Z  2010-06-04  \n"
     ]
    }
   ],
   "source": [
    "import requests\n",
    "import pandas as pd\n",
    "from pandas.io.json import json_normalize\n",
    "import datetime\n",
    "\n",
    "# SpaceX APIへのリクエストを作成\n",
    "spacex_url = \"https://api.spacexdata.com/v4/launches/past\"\n",
    "response = requests.get(spacex_url)\n",
    "\n",
    "# リクエストが成功したかどうかをチェック\n",
    "if response.status_code == 200:\n",
    "    # レスポンスコンテンツをJSONとしてデコードする\n",
    "    data = response.json()\n",
    "    # JSONデータをデータフレームに変換する\n",
    "    df = pd.json_normalize(data)\n",
    "    \n",
    "    # データフレームの列を絞り込む\n",
    "    df = df[['rocket', 'payloads', 'launchpad', 'cores', 'flight_number', 'date_utc']]\n",
    "    \n",
    "    # rowsのフィルタリング\n",
    "    df = df[df['cores'].map(len) == 1]\n",
    "    df = df[df['payloads'].map(len) == 1]\n",
    "    \n",
    "    # coresとpayloadsの要素を取り出して置き換える\n",
    "    df['cores'] = df['cores'].map(lambda x: x[0])\n",
    "    df['payloads'] = df['payloads'].map(lambda x: x[0])\n",
    "    \n",
    "    # date_utcをdatetimeデータ型に変換し、日付のみに抽出する\n",
    "    df['date'] = pd.to_datetime(df['date_utc']).dt.date\n",
    "    \n",
    "    # 日付でフィルタリング\n",
    "    df = df[df['date'] <= datetime.date(2020, 11, 13)]\n",
    "    \n",
    "    # データフレームの最初の5行を表示する\n",
    "    print(df.head(5))\n",
    "    \n",
    "else:\n",
    "    print(\"SpaceX APIからデータの取得に失敗しました。\")\n"
   ]
  },
  {
   "cell_type": "markdown",
   "metadata": {},
   "source": [
    "Using the dataframe <code>data</code> print the first 5 rows\n"
   ]
  },
  {
   "cell_type": "code",
   "execution_count": 27,
   "metadata": {},
   "outputs": [
    {
     "name": "stdout",
     "output_type": "stream",
     "text": [
      "                     rocket                  payloads  \\\n",
      "0  5e9d0d95eda69955f709d1eb  5eb0e4b5b6c3bb0006eeb1e1   \n",
      "1  5e9d0d95eda69955f709d1eb  5eb0e4b6b6c3bb0006eeb1e2   \n",
      "3  5e9d0d95eda69955f709d1eb  5eb0e4b7b6c3bb0006eeb1e5   \n",
      "4  5e9d0d95eda69955f709d1eb  5eb0e4b7b6c3bb0006eeb1e6   \n",
      "5  5e9d0d95eda69973a809d1ec  5eb0e4b7b6c3bb0006eeb1e7   \n",
      "\n",
      "                  launchpad  \\\n",
      "0  5e9e4502f5090995de566f86   \n",
      "1  5e9e4502f5090995de566f86   \n",
      "3  5e9e4502f5090995de566f86   \n",
      "4  5e9e4502f5090995de566f86   \n",
      "5  5e9e4501f509094ba4566f84   \n",
      "\n",
      "                                                                                                                                                                                            cores  \\\n",
      "0  {'core': '5e9e289df35918033d3b2623', 'flight': 1, 'gridfins': False, 'legs': False, 'reused': False, 'landing_attempt': False, 'landing_success': None, 'landing_type': None, 'landpad': None}   \n",
      "1  {'core': '5e9e289ef35918416a3b2624', 'flight': 1, 'gridfins': False, 'legs': False, 'reused': False, 'landing_attempt': False, 'landing_success': None, 'landing_type': None, 'landpad': None}   \n",
      "3  {'core': '5e9e289ef3591855dc3b2626', 'flight': 1, 'gridfins': False, 'legs': False, 'reused': False, 'landing_attempt': False, 'landing_success': None, 'landing_type': None, 'landpad': None}   \n",
      "4  {'core': '5e9e289ef359184f103b2627', 'flight': 1, 'gridfins': False, 'legs': False, 'reused': False, 'landing_attempt': False, 'landing_success': None, 'landing_type': None, 'landpad': None}   \n",
      "5  {'core': '5e9e289ef359185f2b3b2628', 'flight': 1, 'gridfins': False, 'legs': False, 'reused': False, 'landing_attempt': False, 'landing_success': None, 'landing_type': None, 'landpad': None}   \n",
      "\n",
      "   flight_number                  date_utc        date  \n",
      "0              1  2006-03-24T22:30:00.000Z  2006-03-24  \n",
      "1              2  2007-03-21T01:10:00.000Z  2007-03-21  \n",
      "3              4  2008-09-28T23:15:00.000Z  2008-09-28  \n",
      "4              5  2009-07-13T03:35:00.000Z  2009-07-13  \n",
      "5              6  2010-06-04T18:45:00.000Z  2010-06-04  \n"
     ]
    }
   ],
   "source": [
    "# Get the head of the dataframe\n",
    "print(df.head(5))"
   ]
  },
  {
   "cell_type": "markdown",
   "metadata": {},
   "source": [
    "You will notice that a lot of the data are IDs. For example the rocket column has no information about the rocket just an identification number.\n",
    "\n",
    "We will now use the API again to get information about the launches using the IDs given for each launch. Specifically we will be using columns <code>rocket</code>, <code>payloads</code>, <code>launchpad</code>, and <code>cores</code>.\n"
   ]
  },
  {
   "cell_type": "code",
   "execution_count": 29,
   "metadata": {},
   "outputs": [
    {
     "name": "stdout",
     "output_type": "stream",
     "text": [
      "Empty DataFrame\n",
      "Columns: [rocket, payloads, launchpad, cores, flight_number, date_utc, date]\n",
      "Index: []\n"
     ]
    }
   ],
   "source": [
    "# Lets take a subset of our dataframe keeping only the features we want and the flight number, and date_utc.\n",
    "df_subset = df[['rocket', 'payloads', 'launchpad', 'cores', 'flight_number', 'date_utc']]\n",
    "\n",
    "# We will remove rows with multiple cores because those are falcon rockets with 2 extra rocket boosters and rows that have multiple payloads in a single rocket.\n",
    "df_subset = df_subset[df_subset['cores'].map(len) == 1]\n",
    "df_subset = df_subset[df_subset['payloads'].map(len) == 1]\n",
    "\n",
    "# Since payloads and cores are lists of size 1 we will also extract the single value in the list and replace the feature.\n",
    "df_subset['cores'] = df_subset['cores'].map(lambda x: x[0])\n",
    "df_subset['payloads'] = df_subset['payloads'].map(lambda x: x[0])\n",
    "\n",
    "# We also want to convert the date_utc to a datetime datatype and then extract the date leaving the time.\n",
    "df_subset['date'] = pd.to_datetime(df_subset['date_utc']).dt.date\n",
    "\n",
    "# Using the date we will restrict the dates of the launches.\n",
    "df_subset = df_subset[df_subset['date'] <= datetime.date(2020, 11, 13)]\n",
    "\n",
    "# Print the first 5 rows of the subset.\n",
    "print(df_subset.head(5))\n"
   ]
  },
  {
   "cell_type": "markdown",
   "metadata": {},
   "source": [
    "* From the <code>rocket</code> we would like to learn the booster name\n",
    "\n",
    "* From the <code>payload</code> we would like to learn the mass of the payload and the orbit that it is going to\n",
    "\n",
    "* From the <code>launchpad</code> we would like to know the name of the launch site being used, the longitude, and the latitude.\n",
    "\n",
    "* From <code>cores</code> we would like to learn the outcome of the landing, the type of the landing, number of flights with that core, whether gridfins were used, whether the core is reused, whether legs were used, the landing pad used, the block of the core which is a number used to seperate version of cores, the number of times this specific core has been reused, and the serial of the core.\n",
    "\n",
    "The data from these requests will be stored in lists and will be used to create a new dataframe.\n"
   ]
  },
  {
   "cell_type": "code",
   "execution_count": 30,
   "metadata": {},
   "outputs": [],
   "source": [
    "#Global variables \n",
    "BoosterVersion = []\n",
    "PayloadMass = []\n",
    "Orbit = []\n",
    "LaunchSite = []\n",
    "Outcome = []\n",
    "Flights = []\n",
    "GridFins = []\n",
    "Reused = []\n",
    "Legs = []\n",
    "LandingPad = []\n",
    "Block = []\n",
    "ReusedCount = []\n",
    "Serial = []\n",
    "Longitude = []\n",
    "Latitude = []"
   ]
  },
  {
   "cell_type": "markdown",
   "metadata": {},
   "source": [
    "These functions will apply the outputs globally to the above variables. Let's take a looks at <code>BoosterVersion</code> variable. Before we apply  <code>getBoosterVersion</code> the list is empty:\n"
   ]
  },
  {
   "cell_type": "code",
   "execution_count": 31,
   "metadata": {},
   "outputs": [
    {
     "data": {
      "text/plain": [
       "[]"
      ]
     },
     "execution_count": 31,
     "metadata": {},
     "output_type": "execute_result"
    }
   ],
   "source": [
    "BoosterVersion"
   ]
  },
  {
   "cell_type": "markdown",
   "metadata": {},
   "source": [
    "Now, let's apply <code> getBoosterVersion</code> function method to get the booster version\n"
   ]
  },
  {
   "cell_type": "code",
   "execution_count": 33,
   "metadata": {},
   "outputs": [],
   "source": [
    "# Convert data to a DataFrame\n",
    "df = pd.DataFrame(data)\n",
    "\n",
    "# Call getBoosterVersion\n",
    "getBoosterVersion(df)"
   ]
  },
  {
   "cell_type": "markdown",
   "metadata": {},
   "source": [
    "the list has now been update \n"
   ]
  },
  {
   "cell_type": "code",
   "execution_count": 34,
   "metadata": {},
   "outputs": [
    {
     "data": {
      "text/plain": [
       "['Falcon 1', 'Falcon 1', 'Falcon 1', 'Falcon 1', 'Falcon 1']"
      ]
     },
     "execution_count": 34,
     "metadata": {},
     "output_type": "execute_result"
    }
   ],
   "source": [
    "BoosterVersion[0:5]"
   ]
  },
  {
   "cell_type": "markdown",
   "metadata": {},
   "source": [
    "we can apply the rest of the  functions here:\n"
   ]
  },
  {
   "cell_type": "code",
   "execution_count": 36,
   "metadata": {},
   "outputs": [],
   "source": [
    "# Convert data to a DataFrame\n",
    "df = pd.DataFrame(data)\n",
    "\n",
    "# Call getLaunchSite\n",
    "getLaunchSite(df)"
   ]
  },
  {
   "cell_type": "code",
   "execution_count": 41,
   "metadata": {},
   "outputs": [],
   "source": [
    "def getPayloadData(data):\n",
    "    for load in data['payloads']:\n",
    "       if load:\n",
    "        load = load[0]  # リストの最初の要素を取得\n",
    "        response = requests.get(\"https://api.spacexdata.com/v4/payloads/\"+load).json()\n",
    "        PayloadMass.append(response['mass_kg'])\n",
    "        Orbit.append(response['orbit'])\n",
    "\n",
    "# Call getPayloadData\n",
    "getPayloadData(df)"
   ]
  },
  {
   "cell_type": "code",
   "execution_count": 61,
   "metadata": {},
   "outputs": [],
   "source": [
    "def getCoreData(data):\n",
    "    for core in data['cores']:\n",
    "        core = core[0]  # リストの最初の要素を取得\n",
    "        if core['core'] != None:\n",
    "            response = requests.get(\"https://api.spacexdata.com/v4/cores/\"+core['core']).json()\n",
    "            Block.append(response['block'])\n",
    "            ReusedCount.append(response['reuse_count'])\n",
    "            Serial.append(response['serial'])\n",
    "        else:\n",
    "            Block.append(None)\n",
    "            ReusedCount.append(None)\n",
    "            Serial.append(None)\n",
    "        Outcome.append(str(core['landing_success'])+' '+str(core['landing_type']))\n",
    "        Flights.append(core['flight'])\n",
    "        GridFins.append(core['gridfins'])\n",
    "        Reused.append(core['reused'])\n",
    "        Legs.append(core['legs'])\n",
    "        LandingPad.append(core['landpad'])\n",
    "\n",
    "# Call getCoreData\n",
    "getCoreData(df)"
   ]
  },
  {
   "cell_type": "markdown",
   "metadata": {},
   "source": [
    "Finally lets construct our dataset using the data we have obtained. We we combine the columns into a dictionary.\n"
   ]
  },
  {
   "cell_type": "code",
   "execution_count": 47,
   "metadata": {},
   "outputs": [
    {
     "name": "stdout",
     "output_type": "stream",
     "text": [
      "     FlightNumber                      Date BoosterVersion  PayloadMass Orbit  \\\n",
      "0               1  2006-03-24T22:30:00.000Z       Falcon 1         20.0   LEO   \n",
      "1               2  2007-03-21T01:10:00.000Z       Falcon 1          NaN   LEO   \n",
      "2               3  2008-08-03T03:34:00.000Z       Falcon 1          NaN   LEO   \n",
      "3               4  2008-09-28T23:15:00.000Z       Falcon 1        165.0   LEO   \n",
      "4               5  2009-07-13T03:35:00.000Z       Falcon 1        200.0   LEO   \n",
      "..            ...                       ...            ...          ...   ...   \n",
      "182           183  2022-09-05T02:09:00.000Z       Falcon 9      13260.0  VLEO   \n",
      "183           184  2022-09-11T01:10:00.000Z       Falcon 9      13260.0  VLEO   \n",
      "184           185  2022-09-17T01:05:00.000Z       Falcon 9      13260.0  VLEO   \n",
      "185           186  2022-09-24T23:30:00.000Z       Falcon 9      13260.0  VLEO   \n",
      "186           187  2022-10-05T16:00:00.000Z       Falcon 9          NaN   ISS   \n",
      "\n",
      "          LaunchSite    Outcome  Flights  GridFins  Reused   Legs  \\\n",
      "0    Kwajalein Atoll  None None        1     False   False  False   \n",
      "1    Kwajalein Atoll  None None        1     False   False  False   \n",
      "2    Kwajalein Atoll  None None        1     False   False  False   \n",
      "3    Kwajalein Atoll  None None        1     False   False  False   \n",
      "4    Kwajalein Atoll  None None        1     False   False  False   \n",
      "..               ...        ...      ...       ...     ...    ...   \n",
      "182     CCSFS SLC 40  True ASDS        7      True    True   True   \n",
      "183       KSC LC 39A  True ASDS       14      True    True   True   \n",
      "184     CCSFS SLC 40  True ASDS        6      True    True   True   \n",
      "185     CCSFS SLC 40  True ASDS        4      True    True   True   \n",
      "186       KSC LC 39A  True ASDS        1      True   False   True   \n",
      "\n",
      "                   LandingPad  Block  ReusedCount    Serial   Longitude  \\\n",
      "0                        None    NaN            0  Merlin1A  167.743129   \n",
      "1                        None    NaN            0  Merlin2A  167.743129   \n",
      "2                        None    NaN            0  Merlin1C  167.743129   \n",
      "3                        None    NaN            0  Merlin2C  167.743129   \n",
      "4                        None    NaN            0  Merlin3C  167.743129   \n",
      "..                        ...    ...          ...       ...         ...   \n",
      "182  5e9e3033383ecbb9e534e7cc    5.0            6     B1052  -80.577366   \n",
      "183  5e9e3033383ecb075134e7cd    5.0           13     B1058  -80.603956   \n",
      "184  5e9e3033383ecbb9e534e7cc    5.0            5     B1067  -80.577366   \n",
      "185  5e9e3033383ecbb9e534e7cc    5.0            0     B1072  -80.577366   \n",
      "186  5e9e3033383ecbb9e534e7cc    5.0            0     B1077  -80.603956   \n",
      "\n",
      "      Latitude  \n",
      "0     9.047721  \n",
      "1     9.047721  \n",
      "2     9.047721  \n",
      "3     9.047721  \n",
      "4     9.047721  \n",
      "..         ...  \n",
      "182  28.561857  \n",
      "183  28.608058  \n",
      "184  28.561857  \n",
      "185  28.561857  \n",
      "186  28.608058  \n",
      "\n",
      "[187 rows x 17 columns]\n"
     ]
    }
   ],
   "source": [
    "# Convert data list to DataFrame\n",
    "data_df = pd.DataFrame(data)\n",
    "\n",
    "# Create launch_dict using DataFrame columns\n",
    "launch_dict = {\n",
    "    'FlightNumber': list(data_df['flight_number']),\n",
    "    'Date': list(data_df['date_utc']),  # Use the correct column name for date\n",
    "    'BoosterVersion': BoosterVersion,\n",
    "    'PayloadMass': PayloadMass,\n",
    "    'Orbit': Orbit,\n",
    "    'LaunchSite': LaunchSite,\n",
    "    'Outcome': Outcome,\n",
    "    'Flights': Flights,\n",
    "    'GridFins': GridFins,\n",
    "    'Reused': Reused,\n",
    "    'Legs': Legs,\n",
    "    'LandingPad': LandingPad,\n",
    "    'Block': Block,\n",
    "    'ReusedCount': ReusedCount,\n",
    "    'Serial': Serial,\n",
    "    'Longitude': Longitude,\n",
    "    'Latitude': Latitude\n",
    "}\n",
    "\n",
    "# Create a DataFrame from launch_dict\n",
    "launch_df = pd.DataFrame.from_dict(launch_dict)\n",
    "\n",
    "# Print the DataFrame\n",
    "print(launch_df)\n"
   ]
  },
  {
   "cell_type": "markdown",
   "metadata": {},
   "source": [
    "Then, we need to create a Pandas data frame from the dictionary launch_dict.\n"
   ]
  },
  {
   "cell_type": "code",
   "execution_count": 49,
   "metadata": {},
   "outputs": [
    {
     "name": "stdout",
     "output_type": "stream",
     "text": [
      "     FlightNumber                      Date BoosterVersion  PayloadMass Orbit  \\\n",
      "0               1  2006-03-24T22:30:00.000Z       Falcon 1         20.0   LEO   \n",
      "1               2  2007-03-21T01:10:00.000Z       Falcon 1          NaN   LEO   \n",
      "2               3  2008-08-03T03:34:00.000Z       Falcon 1          NaN   LEO   \n",
      "3               4  2008-09-28T23:15:00.000Z       Falcon 1        165.0   LEO   \n",
      "4               5  2009-07-13T03:35:00.000Z       Falcon 1        200.0   LEO   \n",
      "..            ...                       ...            ...          ...   ...   \n",
      "182           183  2022-09-05T02:09:00.000Z       Falcon 9      13260.0  VLEO   \n",
      "183           184  2022-09-11T01:10:00.000Z       Falcon 9      13260.0  VLEO   \n",
      "184           185  2022-09-17T01:05:00.000Z       Falcon 9      13260.0  VLEO   \n",
      "185           186  2022-09-24T23:30:00.000Z       Falcon 9      13260.0  VLEO   \n",
      "186           187  2022-10-05T16:00:00.000Z       Falcon 9          NaN   ISS   \n",
      "\n",
      "          LaunchSite    Outcome  Flights  GridFins  Reused   Legs  \\\n",
      "0    Kwajalein Atoll  None None        1     False   False  False   \n",
      "1    Kwajalein Atoll  None None        1     False   False  False   \n",
      "2    Kwajalein Atoll  None None        1     False   False  False   \n",
      "3    Kwajalein Atoll  None None        1     False   False  False   \n",
      "4    Kwajalein Atoll  None None        1     False   False  False   \n",
      "..               ...        ...      ...       ...     ...    ...   \n",
      "182     CCSFS SLC 40  True ASDS        7      True    True   True   \n",
      "183       KSC LC 39A  True ASDS       14      True    True   True   \n",
      "184     CCSFS SLC 40  True ASDS        6      True    True   True   \n",
      "185     CCSFS SLC 40  True ASDS        4      True    True   True   \n",
      "186       KSC LC 39A  True ASDS        1      True   False   True   \n",
      "\n",
      "                   LandingPad  Block  ReusedCount    Serial   Longitude  \\\n",
      "0                        None    NaN            0  Merlin1A  167.743129   \n",
      "1                        None    NaN            0  Merlin2A  167.743129   \n",
      "2                        None    NaN            0  Merlin1C  167.743129   \n",
      "3                        None    NaN            0  Merlin2C  167.743129   \n",
      "4                        None    NaN            0  Merlin3C  167.743129   \n",
      "..                        ...    ...          ...       ...         ...   \n",
      "182  5e9e3033383ecbb9e534e7cc    5.0            6     B1052  -80.577366   \n",
      "183  5e9e3033383ecb075134e7cd    5.0           13     B1058  -80.603956   \n",
      "184  5e9e3033383ecbb9e534e7cc    5.0            5     B1067  -80.577366   \n",
      "185  5e9e3033383ecbb9e534e7cc    5.0            0     B1072  -80.577366   \n",
      "186  5e9e3033383ecbb9e534e7cc    5.0            0     B1077  -80.603956   \n",
      "\n",
      "      Latitude  \n",
      "0     9.047721  \n",
      "1     9.047721  \n",
      "2     9.047721  \n",
      "3     9.047721  \n",
      "4     9.047721  \n",
      "..         ...  \n",
      "182  28.561857  \n",
      "183  28.608058  \n",
      "184  28.561857  \n",
      "185  28.561857  \n",
      "186  28.608058  \n",
      "\n",
      "[187 rows x 17 columns]\n"
     ]
    }
   ],
   "source": [
    "# Create a DataFrame from launch_dict\n",
    "launch_df = pd.DataFrame(launch_dict)\n",
    "\n",
    "# Print the DataFrame\n",
    "print(launch_df)\n"
   ]
  },
  {
   "cell_type": "markdown",
   "metadata": {},
   "source": [
    "Show the summary of the dataframe\n"
   ]
  },
  {
   "cell_type": "code",
   "execution_count": 50,
   "metadata": {},
   "outputs": [
    {
     "name": "stdout",
     "output_type": "stream",
     "text": [
      "   FlightNumber                      Date BoosterVersion  PayloadMass Orbit  \\\n",
      "0             1  2006-03-24T22:30:00.000Z       Falcon 1         20.0   LEO   \n",
      "1             2  2007-03-21T01:10:00.000Z       Falcon 1          NaN   LEO   \n",
      "2             3  2008-08-03T03:34:00.000Z       Falcon 1          NaN   LEO   \n",
      "3             4  2008-09-28T23:15:00.000Z       Falcon 1        165.0   LEO   \n",
      "4             5  2009-07-13T03:35:00.000Z       Falcon 1        200.0   LEO   \n",
      "\n",
      "        LaunchSite    Outcome  Flights  GridFins  Reused   Legs LandingPad  \\\n",
      "0  Kwajalein Atoll  None None        1     False   False  False       None   \n",
      "1  Kwajalein Atoll  None None        1     False   False  False       None   \n",
      "2  Kwajalein Atoll  None None        1     False   False  False       None   \n",
      "3  Kwajalein Atoll  None None        1     False   False  False       None   \n",
      "4  Kwajalein Atoll  None None        1     False   False  False       None   \n",
      "\n",
      "   Block  ReusedCount    Serial   Longitude  Latitude  \n",
      "0    NaN            0  Merlin1A  167.743129  9.047721  \n",
      "1    NaN            0  Merlin2A  167.743129  9.047721  \n",
      "2    NaN            0  Merlin1C  167.743129  9.047721  \n",
      "3    NaN            0  Merlin2C  167.743129  9.047721  \n",
      "4    NaN            0  Merlin3C  167.743129  9.047721  \n"
     ]
    }
   ],
   "source": [
    "# Show the head of the DataFrame\n",
    "print(launch_df.head())\n"
   ]
  },
  {
   "cell_type": "markdown",
   "metadata": {},
   "source": [
    "### Task 2: Filter the dataframe to only include `Falcon 9` launches\n"
   ]
  },
  {
   "cell_type": "markdown",
   "metadata": {},
   "source": [
    "Finally we will remove the Falcon 1 launches keeping only the Falcon 9 launches. Filter the data dataframe using the <code>BoosterVersion</code> column to only keep the Falcon 9 launches. Save the filtered data to a new dataframe called <code>data_falcon9</code>.\n"
   ]
  },
  {
   "cell_type": "code",
   "execution_count": 51,
   "metadata": {},
   "outputs": [],
   "source": [
    "# Filter the DataFrame to keep only Falcon 9 launches\n",
    "data_falcon9 = launch_df[launch_df['BoosterVersion'] != 'Falcon 1']\n"
   ]
  },
  {
   "cell_type": "markdown",
   "metadata": {},
   "source": [
    "Now that we have removed some values we should reset the FlgihtNumber column\n"
   ]
  },
  {
   "cell_type": "code",
   "execution_count": 52,
   "metadata": {},
   "outputs": [
    {
     "name": "stderr",
     "output_type": "stream",
     "text": [
      "/var/folders/ts/2rq6mksj55z0p2hvcythxhn80000gn/T/ipykernel_75799/4023201451.py:1: SettingWithCopyWarning: \n",
      "A value is trying to be set on a copy of a slice from a DataFrame.\n",
      "Try using .loc[row_indexer,col_indexer] = value instead\n",
      "\n",
      "See the caveats in the documentation: https://pandas.pydata.org/pandas-docs/stable/user_guide/indexing.html#returning-a-view-versus-a-copy\n",
      "  data_falcon9.loc[:,'FlightNumber'] = list(range(1, data_falcon9.shape[0]+1))\n"
     ]
    },
    {
     "data": {
      "text/html": [
       "<div>\n",
       "<style scoped>\n",
       "    .dataframe tbody tr th:only-of-type {\n",
       "        vertical-align: middle;\n",
       "    }\n",
       "\n",
       "    .dataframe tbody tr th {\n",
       "        vertical-align: top;\n",
       "    }\n",
       "\n",
       "    .dataframe thead th {\n",
       "        text-align: right;\n",
       "    }\n",
       "</style>\n",
       "<table border=\"1\" class=\"dataframe\">\n",
       "  <thead>\n",
       "    <tr style=\"text-align: right;\">\n",
       "      <th></th>\n",
       "      <th>FlightNumber</th>\n",
       "      <th>Date</th>\n",
       "      <th>BoosterVersion</th>\n",
       "      <th>PayloadMass</th>\n",
       "      <th>Orbit</th>\n",
       "      <th>LaunchSite</th>\n",
       "      <th>Outcome</th>\n",
       "      <th>Flights</th>\n",
       "      <th>GridFins</th>\n",
       "      <th>Reused</th>\n",
       "      <th>Legs</th>\n",
       "      <th>LandingPad</th>\n",
       "      <th>Block</th>\n",
       "      <th>ReusedCount</th>\n",
       "      <th>Serial</th>\n",
       "      <th>Longitude</th>\n",
       "      <th>Latitude</th>\n",
       "    </tr>\n",
       "  </thead>\n",
       "  <tbody>\n",
       "    <tr>\n",
       "      <th>5</th>\n",
       "      <td>1</td>\n",
       "      <td>2010-06-04T18:45:00.000Z</td>\n",
       "      <td>Falcon 9</td>\n",
       "      <td>NaN</td>\n",
       "      <td>LEO</td>\n",
       "      <td>CCSFS SLC 40</td>\n",
       "      <td>None None</td>\n",
       "      <td>1</td>\n",
       "      <td>False</td>\n",
       "      <td>False</td>\n",
       "      <td>False</td>\n",
       "      <td>None</td>\n",
       "      <td>1.0</td>\n",
       "      <td>0</td>\n",
       "      <td>B0003</td>\n",
       "      <td>-80.577366</td>\n",
       "      <td>28.561857</td>\n",
       "    </tr>\n",
       "    <tr>\n",
       "      <th>6</th>\n",
       "      <td>2</td>\n",
       "      <td>2010-12-08T15:43:00.000Z</td>\n",
       "      <td>Falcon 9</td>\n",
       "      <td>NaN</td>\n",
       "      <td>LEO</td>\n",
       "      <td>CCSFS SLC 40</td>\n",
       "      <td>None None</td>\n",
       "      <td>1</td>\n",
       "      <td>False</td>\n",
       "      <td>False</td>\n",
       "      <td>False</td>\n",
       "      <td>None</td>\n",
       "      <td>1.0</td>\n",
       "      <td>0</td>\n",
       "      <td>B0004</td>\n",
       "      <td>-80.577366</td>\n",
       "      <td>28.561857</td>\n",
       "    </tr>\n",
       "    <tr>\n",
       "      <th>7</th>\n",
       "      <td>3</td>\n",
       "      <td>2012-05-22T07:44:00.000Z</td>\n",
       "      <td>Falcon 9</td>\n",
       "      <td>525.0</td>\n",
       "      <td>LEO</td>\n",
       "      <td>CCSFS SLC 40</td>\n",
       "      <td>None None</td>\n",
       "      <td>1</td>\n",
       "      <td>False</td>\n",
       "      <td>False</td>\n",
       "      <td>False</td>\n",
       "      <td>None</td>\n",
       "      <td>1.0</td>\n",
       "      <td>0</td>\n",
       "      <td>B0005</td>\n",
       "      <td>-80.577366</td>\n",
       "      <td>28.561857</td>\n",
       "    </tr>\n",
       "    <tr>\n",
       "      <th>8</th>\n",
       "      <td>4</td>\n",
       "      <td>2012-10-08T00:35:00.000Z</td>\n",
       "      <td>Falcon 9</td>\n",
       "      <td>400.0</td>\n",
       "      <td>ISS</td>\n",
       "      <td>CCSFS SLC 40</td>\n",
       "      <td>None None</td>\n",
       "      <td>1</td>\n",
       "      <td>False</td>\n",
       "      <td>False</td>\n",
       "      <td>False</td>\n",
       "      <td>None</td>\n",
       "      <td>1.0</td>\n",
       "      <td>0</td>\n",
       "      <td>B0006</td>\n",
       "      <td>-80.577366</td>\n",
       "      <td>28.561857</td>\n",
       "    </tr>\n",
       "    <tr>\n",
       "      <th>9</th>\n",
       "      <td>5</td>\n",
       "      <td>2013-03-01T19:10:00.000Z</td>\n",
       "      <td>Falcon 9</td>\n",
       "      <td>677.0</td>\n",
       "      <td>ISS</td>\n",
       "      <td>CCSFS SLC 40</td>\n",
       "      <td>None None</td>\n",
       "      <td>1</td>\n",
       "      <td>False</td>\n",
       "      <td>False</td>\n",
       "      <td>False</td>\n",
       "      <td>None</td>\n",
       "      <td>1.0</td>\n",
       "      <td>0</td>\n",
       "      <td>B0007</td>\n",
       "      <td>-80.577366</td>\n",
       "      <td>28.561857</td>\n",
       "    </tr>\n",
       "    <tr>\n",
       "      <th>...</th>\n",
       "      <td>...</td>\n",
       "      <td>...</td>\n",
       "      <td>...</td>\n",
       "      <td>...</td>\n",
       "      <td>...</td>\n",
       "      <td>...</td>\n",
       "      <td>...</td>\n",
       "      <td>...</td>\n",
       "      <td>...</td>\n",
       "      <td>...</td>\n",
       "      <td>...</td>\n",
       "      <td>...</td>\n",
       "      <td>...</td>\n",
       "      <td>...</td>\n",
       "      <td>...</td>\n",
       "      <td>...</td>\n",
       "      <td>...</td>\n",
       "    </tr>\n",
       "    <tr>\n",
       "      <th>182</th>\n",
       "      <td>178</td>\n",
       "      <td>2022-09-05T02:09:00.000Z</td>\n",
       "      <td>Falcon 9</td>\n",
       "      <td>13260.0</td>\n",
       "      <td>VLEO</td>\n",
       "      <td>CCSFS SLC 40</td>\n",
       "      <td>True ASDS</td>\n",
       "      <td>7</td>\n",
       "      <td>True</td>\n",
       "      <td>True</td>\n",
       "      <td>True</td>\n",
       "      <td>5e9e3033383ecbb9e534e7cc</td>\n",
       "      <td>5.0</td>\n",
       "      <td>6</td>\n",
       "      <td>B1052</td>\n",
       "      <td>-80.577366</td>\n",
       "      <td>28.561857</td>\n",
       "    </tr>\n",
       "    <tr>\n",
       "      <th>183</th>\n",
       "      <td>179</td>\n",
       "      <td>2022-09-11T01:10:00.000Z</td>\n",
       "      <td>Falcon 9</td>\n",
       "      <td>13260.0</td>\n",
       "      <td>VLEO</td>\n",
       "      <td>KSC LC 39A</td>\n",
       "      <td>True ASDS</td>\n",
       "      <td>14</td>\n",
       "      <td>True</td>\n",
       "      <td>True</td>\n",
       "      <td>True</td>\n",
       "      <td>5e9e3033383ecb075134e7cd</td>\n",
       "      <td>5.0</td>\n",
       "      <td>13</td>\n",
       "      <td>B1058</td>\n",
       "      <td>-80.603956</td>\n",
       "      <td>28.608058</td>\n",
       "    </tr>\n",
       "    <tr>\n",
       "      <th>184</th>\n",
       "      <td>180</td>\n",
       "      <td>2022-09-17T01:05:00.000Z</td>\n",
       "      <td>Falcon 9</td>\n",
       "      <td>13260.0</td>\n",
       "      <td>VLEO</td>\n",
       "      <td>CCSFS SLC 40</td>\n",
       "      <td>True ASDS</td>\n",
       "      <td>6</td>\n",
       "      <td>True</td>\n",
       "      <td>True</td>\n",
       "      <td>True</td>\n",
       "      <td>5e9e3033383ecbb9e534e7cc</td>\n",
       "      <td>5.0</td>\n",
       "      <td>5</td>\n",
       "      <td>B1067</td>\n",
       "      <td>-80.577366</td>\n",
       "      <td>28.561857</td>\n",
       "    </tr>\n",
       "    <tr>\n",
       "      <th>185</th>\n",
       "      <td>181</td>\n",
       "      <td>2022-09-24T23:30:00.000Z</td>\n",
       "      <td>Falcon 9</td>\n",
       "      <td>13260.0</td>\n",
       "      <td>VLEO</td>\n",
       "      <td>CCSFS SLC 40</td>\n",
       "      <td>True ASDS</td>\n",
       "      <td>4</td>\n",
       "      <td>True</td>\n",
       "      <td>True</td>\n",
       "      <td>True</td>\n",
       "      <td>5e9e3033383ecbb9e534e7cc</td>\n",
       "      <td>5.0</td>\n",
       "      <td>0</td>\n",
       "      <td>B1072</td>\n",
       "      <td>-80.577366</td>\n",
       "      <td>28.561857</td>\n",
       "    </tr>\n",
       "    <tr>\n",
       "      <th>186</th>\n",
       "      <td>182</td>\n",
       "      <td>2022-10-05T16:00:00.000Z</td>\n",
       "      <td>Falcon 9</td>\n",
       "      <td>NaN</td>\n",
       "      <td>ISS</td>\n",
       "      <td>KSC LC 39A</td>\n",
       "      <td>True ASDS</td>\n",
       "      <td>1</td>\n",
       "      <td>True</td>\n",
       "      <td>False</td>\n",
       "      <td>True</td>\n",
       "      <td>5e9e3033383ecbb9e534e7cc</td>\n",
       "      <td>5.0</td>\n",
       "      <td>0</td>\n",
       "      <td>B1077</td>\n",
       "      <td>-80.603956</td>\n",
       "      <td>28.608058</td>\n",
       "    </tr>\n",
       "  </tbody>\n",
       "</table>\n",
       "<p>182 rows × 17 columns</p>\n",
       "</div>"
      ],
      "text/plain": [
       "     FlightNumber                      Date BoosterVersion  PayloadMass Orbit  \\\n",
       "5               1  2010-06-04T18:45:00.000Z       Falcon 9          NaN   LEO   \n",
       "6               2  2010-12-08T15:43:00.000Z       Falcon 9          NaN   LEO   \n",
       "7               3  2012-05-22T07:44:00.000Z       Falcon 9        525.0   LEO   \n",
       "8               4  2012-10-08T00:35:00.000Z       Falcon 9        400.0   ISS   \n",
       "9               5  2013-03-01T19:10:00.000Z       Falcon 9        677.0   ISS   \n",
       "..            ...                       ...            ...          ...   ...   \n",
       "182           178  2022-09-05T02:09:00.000Z       Falcon 9      13260.0  VLEO   \n",
       "183           179  2022-09-11T01:10:00.000Z       Falcon 9      13260.0  VLEO   \n",
       "184           180  2022-09-17T01:05:00.000Z       Falcon 9      13260.0  VLEO   \n",
       "185           181  2022-09-24T23:30:00.000Z       Falcon 9      13260.0  VLEO   \n",
       "186           182  2022-10-05T16:00:00.000Z       Falcon 9          NaN   ISS   \n",
       "\n",
       "       LaunchSite    Outcome  Flights  GridFins  Reused   Legs  \\\n",
       "5    CCSFS SLC 40  None None        1     False   False  False   \n",
       "6    CCSFS SLC 40  None None        1     False   False  False   \n",
       "7    CCSFS SLC 40  None None        1     False   False  False   \n",
       "8    CCSFS SLC 40  None None        1     False   False  False   \n",
       "9    CCSFS SLC 40  None None        1     False   False  False   \n",
       "..            ...        ...      ...       ...     ...    ...   \n",
       "182  CCSFS SLC 40  True ASDS        7      True    True   True   \n",
       "183    KSC LC 39A  True ASDS       14      True    True   True   \n",
       "184  CCSFS SLC 40  True ASDS        6      True    True   True   \n",
       "185  CCSFS SLC 40  True ASDS        4      True    True   True   \n",
       "186    KSC LC 39A  True ASDS        1      True   False   True   \n",
       "\n",
       "                   LandingPad  Block  ReusedCount Serial  Longitude   Latitude  \n",
       "5                        None    1.0            0  B0003 -80.577366  28.561857  \n",
       "6                        None    1.0            0  B0004 -80.577366  28.561857  \n",
       "7                        None    1.0            0  B0005 -80.577366  28.561857  \n",
       "8                        None    1.0            0  B0006 -80.577366  28.561857  \n",
       "9                        None    1.0            0  B0007 -80.577366  28.561857  \n",
       "..                        ...    ...          ...    ...        ...        ...  \n",
       "182  5e9e3033383ecbb9e534e7cc    5.0            6  B1052 -80.577366  28.561857  \n",
       "183  5e9e3033383ecb075134e7cd    5.0           13  B1058 -80.603956  28.608058  \n",
       "184  5e9e3033383ecbb9e534e7cc    5.0            5  B1067 -80.577366  28.561857  \n",
       "185  5e9e3033383ecbb9e534e7cc    5.0            0  B1072 -80.577366  28.561857  \n",
       "186  5e9e3033383ecbb9e534e7cc    5.0            0  B1077 -80.603956  28.608058  \n",
       "\n",
       "[182 rows x 17 columns]"
      ]
     },
     "execution_count": 52,
     "metadata": {},
     "output_type": "execute_result"
    }
   ],
   "source": [
    "data_falcon9.loc[:,'FlightNumber'] = list(range(1, data_falcon9.shape[0]+1))\n",
    "data_falcon9"
   ]
  },
  {
   "cell_type": "markdown",
   "metadata": {},
   "source": [
    "## Data Wrangling\n"
   ]
  },
  {
   "cell_type": "markdown",
   "metadata": {},
   "source": [
    "We can see below that some of the rows are missing values in our dataset.\n"
   ]
  },
  {
   "cell_type": "code",
   "execution_count": 53,
   "metadata": {},
   "outputs": [
    {
     "data": {
      "text/plain": [
       "FlightNumber       0\n",
       "Date               0\n",
       "BoosterVersion     0\n",
       "PayloadMass       23\n",
       "Orbit              1\n",
       "LaunchSite         0\n",
       "Outcome            0\n",
       "Flights            0\n",
       "GridFins           0\n",
       "Reused             0\n",
       "Legs               0\n",
       "LandingPad        31\n",
       "Block              0\n",
       "ReusedCount        0\n",
       "Serial             0\n",
       "Longitude          0\n",
       "Latitude           0\n",
       "dtype: int64"
      ]
     },
     "execution_count": 53,
     "metadata": {},
     "output_type": "execute_result"
    }
   ],
   "source": [
    "data_falcon9.isnull().sum()"
   ]
  },
  {
   "cell_type": "markdown",
   "metadata": {},
   "source": [
    "Before we can continue we must deal with these missing values. The <code>LandingPad</code> column will retain None values to represent when landing pads were not used.\n"
   ]
  },
  {
   "cell_type": "markdown",
   "metadata": {},
   "source": [
    "### Task 3: Dealing with Missing Values\n"
   ]
  },
  {
   "cell_type": "markdown",
   "metadata": {},
   "source": [
    "Calculate below the mean for the <code>PayloadMass</code> using the <code>.mean()</code>. Then use the mean and the <code>.replace()</code> function to replace `np.nan` values in the data with the mean you calculated.\n"
   ]
  },
  {
   "cell_type": "code",
   "execution_count": 62,
   "metadata": {},
   "outputs": [
    {
     "name": "stderr",
     "output_type": "stream",
     "text": [
      "/var/folders/ts/2rq6mksj55z0p2hvcythxhn80000gn/T/ipykernel_75799/2322323421.py:6: SettingWithCopyWarning: \n",
      "A value is trying to be set on a copy of a slice from a DataFrame.\n",
      "Try using .loc[row_indexer,col_indexer] = value instead\n",
      "\n",
      "See the caveats in the documentation: https://pandas.pydata.org/pandas-docs/stable/user_guide/indexing.html#returning-a-view-versus-a-copy\n",
      "  data_falcon9.loc[:, 'PayloadMass'] = data_falcon9['PayloadMass'].fillna(payload_mass_mean)\n"
     ]
    }
   ],
   "source": [
    "# Calculate the mean value of PayloadMass column\n",
    "payload_mass_mean = data_falcon9['PayloadMass'].mean()\n",
    "\n",
    "\n",
    "# Replace the np.nan values with its mean value\n",
    "data_falcon9.loc[:, 'PayloadMass'] = data_falcon9['PayloadMass'].fillna(payload_mass_mean)"
   ]
  },
  {
   "cell_type": "markdown",
   "metadata": {},
   "source": [
    "You should see the number of missing values of the <code>PayLoadMass</code> change to zero.\n"
   ]
  },
  {
   "cell_type": "markdown",
   "metadata": {},
   "source": [
    "Now we should have no missing values in our dataset except for in <code>LandingPad</code>.\n"
   ]
  },
  {
   "cell_type": "markdown",
   "metadata": {},
   "source": [
    "We can now export it to a <b>CSV</b> for the next section,but to make the answers consistent, in the next lab we will provide data in a pre-selected date range. \n"
   ]
  },
  {
   "cell_type": "markdown",
   "metadata": {},
   "source": [
    "<code>data_falcon9.to_csv('dataset_part_1.csv', index=False)</code>\n"
   ]
  },
  {
   "cell_type": "markdown",
   "metadata": {},
   "source": [
    "## Authors\n"
   ]
  },
  {
   "cell_type": "markdown",
   "metadata": {},
   "source": [
    "<a href=\"https://www.linkedin.com/in/joseph-s-50398b136/?utm_medium=Exinfluencer&utm_source=Exinfluencer&utm_content=000026UJ&utm_term=10006555&utm_id=NA-SkillsNetwork-Channel-SkillsNetworkCoursesIBMDS0321ENSkillsNetwork865-2022-01-01\">Joseph Santarcangelo</a> has a PhD in Electrical Engineering, his research focused on using machine learning, signal processing, and computer vision to determine how videos impact human cognition. Joseph has been working for IBM since he completed his PhD. \n"
   ]
  },
  {
   "cell_type": "markdown",
   "metadata": {},
   "source": [
    "## Change Log\n"
   ]
  },
  {
   "cell_type": "markdown",
   "metadata": {},
   "source": [
    "|Date (YYYY-MM-DD)|Version|Changed By|Change Description|\n",
    "|-|-|-|-|\n",
    "|2020-09-20|1.1|Joseph|get result each time you run|\n",
    "|2020-09-20|1.1|Azim |Created Part 1 Lab using SpaceX API|\n",
    "|2020-09-20|1.0|Joseph |Modified Multiple Areas|\n"
   ]
  },
  {
   "cell_type": "markdown",
   "metadata": {},
   "source": [
    "Copyright © 2021 IBM Corporation. All rights reserved.\n"
   ]
  }
 ],
 "metadata": {
  "kernelspec": {
   "display_name": "Python 3 (ipykernel)",
   "language": "python",
   "name": "python3"
  },
  "language_info": {
   "codemirror_mode": {
    "name": "ipython",
    "version": 3
   },
   "file_extension": ".py",
   "mimetype": "text/x-python",
   "name": "python",
   "nbconvert_exporter": "python",
   "pygments_lexer": "ipython3",
   "version": "3.9.16"
  }
 },
 "nbformat": 4,
 "nbformat_minor": 4
}
